{
  "nbformat": 4,
  "nbformat_minor": 0,
  "metadata": {
    "colab": {
      "provenance": []
    },
    "kernelspec": {
      "name": "python3",
      "display_name": "Python 3"
    },
    "language_info": {
      "name": "python"
    }
  },
  "cells": [
    {
      "cell_type": "code",
      "execution_count": null,
      "metadata": {
        "id": "GPOhf000eDP1"
      },
      "outputs": [],
      "source": [
        "from PIL import Image\n",
        "import numpy as np\n",
        "\n",
        "# Configuration\n",
        "file_name = \"/content/emoji.png\"  # Replace with your file path\n",
        "img_width = 103  # Set the desired image width\n",
        "bit_depth =  1 # Bit depth per channel\n",
        "mode = \"color\"  # \"grayscale\" or \"color\"\n",
        "\n",
        "def read_bytes_to_image(file_name, img_width, bit_depth, mode):\n",
        "    # Load file as raw bytes\n",
        "    with open(file_name, \"rb\") as f:\n",
        "        raw_data = f.read()\n",
        "\n",
        "    # Convert bytes to an array\n",
        "    raw_data = np.frombuffer(raw_data, dtype=np.uint8)\n",
        "\n",
        "    # Determine the number of channels and bits per pixel\n",
        "    if mode == \"grayscale\":\n",
        "        num_channels = 1\n",
        "        bits_per_pixel = bit_depth\n",
        "    elif mode == \"color\":\n",
        "        num_channels = 3\n",
        "        bits_per_pixel = bit_depth * num_channels\n",
        "    else:\n",
        "        raise ValueError(\"Unsupported mode. Use 'grayscale' or 'color'.\")\n",
        "\n",
        "    # Calculate the number of pixels\n",
        "    total_pixels = len(raw_data) // num_channels\n",
        "    total_rows = total_pixels // img_width\n",
        "\n",
        "    # Trim data to fit the image dimensions\n",
        "    usable_data_size = total_rows * img_width * num_channels\n",
        "    trimmed_data = raw_data[:usable_data_size]\n",
        "\n",
        "    # Reshape the data into the required shape for the image\n",
        "    if mode == \"grayscale\":\n",
        "        img_data = trimmed_data.reshape(total_rows, img_width)\n",
        "    else:  # Color mode\n",
        "        img_data = trimmed_data.reshape(total_rows, img_width, num_channels)\n",
        "\n",
        "    # Scale the data to fit within 0-255 range for display\n",
        "    max_value = (2 ** bit_depth) - 1\n",
        "    img_data = (img_data * (255 / max_value)).astype(np.uint8)\n",
        "\n",
        "    # Create the image\n",
        "    if mode == \"grayscale\":\n",
        "        img = Image.fromarray(img_data, mode=\"L\")\n",
        "    else:  # Color\n",
        "        img = Image.fromarray(img_data, mode=\"RGB\")\n",
        "\n",
        "    return img\n",
        "\n",
        "# Create the image\n",
        "img = read_bytes_to_image(file_name, img_width, bit_depth, mode)\n",
        "\n",
        "# Show and save the image\n",
        "img.show()\n",
        "img.save(\"output_image.png\")\n"
      ]
    }
  ]
}